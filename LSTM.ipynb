{
 "cells": [
  {
   "cell_type": "code",
   "execution_count": 3,
   "metadata": {
    "uuid": "bfe09417-5fdf-427a-a1f9-41b2ea7eb1c9"
   },
   "outputs": [],
   "source": [
    "#Coded by Ferdin Joe John Joseph\n",
    "#DSW Notebook Service in Alibaba Cloud with GPU instance used\n",
    "# vanilla lstm example\n",
    "from numpy import array\n",
    "import tensorflow as tf\n",
    "from tensorflow import keras\n"
   ]
  },
  {
   "cell_type": "code",
   "execution_count": 4,
   "metadata": {
    "uuid": "e36e5b80-af16-4b9c-8075-3cb470a515ec"
   },
   "outputs": [],
   "source": [
    "# split a univariate sequence\n",
    "def split_sequence(sequence, n_steps):\n",
    "\tX, y = list(), list()\n",
    "\tfor i in range(len(sequence)):\n",
    "\t\t# find the end of this pattern\n",
    "\t\tend_ix = i + n_steps\n",
    "\t\t# check if we are beyond the sequence\n",
    "\t\tif end_ix > len(sequence)-1:\n",
    "\t\t\tbreak\n",
    "\t\t# gather input and output parts of the pattern\n",
    "\t\tseq_x, seq_y = sequence[i:end_ix], sequence[end_ix]\n",
    "\t\tX.append(seq_x)\n",
    "\t\ty.append(seq_y)\n",
    "\treturn array(X), array(y)\n",
    "\n",
    "# define input sequence\n",
    "raw_seq = [19,14,18,19,20,18,19,28,15,33,49,30,22]\n",
    "#,37,33,24,14,27,12,10,18,13,13,16,13,9,21,22,21,6,8,10,4,7,10,29,4,3,18,23,17,3,9,8,17,9,7,11,1,0,5,5,7,6,0,2,2,6.12,2.3,1.69,1.39,0.79,0.83,0.77,0.68,0.62,0.53,0.44,0.47,0.36,0.33,0.3,0.27,0.32,0.24,0.19,0.25,0.2,0.16,0.13,0.1,0.26,0.19,0.15,0.16,0.17,0.14,0.1,0.13,0.15,0.15,0.12,0.12,0.14,0.12]\n",
    "# choose a number of time steps\n",
    "n_steps = 10\n",
    "# split into samples\n",
    "X, y = split_sequence(raw_seq, n_steps)\n",
    "# reshape from [samples, timesteps] into [samples, timesteps, features]\n",
    "n_features = 1\n",
    "X = X.reshape((X.shape[0], X.shape[1], n_features))"
   ]
  },
  {
   "cell_type": "code",
   "execution_count": 21,
   "metadata": {
    "uuid": "d65117f8-df62-46ea-aa3d-4683d1c99873"
   },
   "outputs": [],
   "source": [
    "# define model\n",
    "model = keras.Sequential()\n",
    "\n",
    "model.add(tf.keras.layers.LSTM(50, activation='relu', return_sequences=True, input_shape=(n_steps, n_features)))\n",
    "model.add(tf.keras.layers.LSTM(50, activation='relu'))\n",
    "model.add(tf.keras.layers.Dense(1))"
   ]
  },
  {
   "cell_type": "code",
   "execution_count": 22,
   "metadata": {
    "uuid": "5a79a84b-d856-4925-8c7d-493c448f635e"
   },
   "outputs": [],
   "source": [
    "#Compile model\n",
    "model.compile(optimizer='adam', loss='mse')"
   ]
  },
  {
   "cell_type": "code",
   "execution_count": 23,
   "metadata": {
    "uuid": "3c024987-c158-4e88-a35e-ad4eff585cac"
   },
   "outputs": [
    {
     "name": "stdout",
     "output_type": "stream",
     "text": [
      "Model: \"sequential_8\"\n",
      "_________________________________________________________________\n",
      "Layer (type)                 Output Shape              Param #   \n",
      "=================================================================\n",
      "lstm_3 (LSTM)                (None, 10, 50)            10400     \n",
      "_________________________________________________________________\n",
      "lstm_4 (LSTM)                (None, 50)                20200     \n",
      "_________________________________________________________________\n",
      "dense_2 (Dense)              (None, 1)                 51        \n",
      "=================================================================\n",
      "Total params: 30,651\n",
      "Trainable params: 30,651\n",
      "Non-trainable params: 0\n",
      "_________________________________________________________________\n"
     ]
    }
   ],
   "source": [
    "model.summary()"
   ]
  },
  {
   "cell_type": "code",
   "execution_count": 24,
   "metadata": {
    "uuid": "c4c3ead2-af82-4ba2-b980-c5572a7099d8"
   },
   "outputs": [
    {
     "name": "stdout",
     "output_type": "stream",
     "text": [
      "[[43.077778]]\n",
      "[[43.142365]]\n",
      "[[27.899595]]\n",
      "[[24.340622]]\n",
      "[[46.4218]]\n",
      "[[12.520472]]\n",
      "[[10.317375]]\n",
      "[[21.999908]]\n",
      "[[12.767969]]\n",
      "[[11.124883]]\n",
      "[[66.73734]]\n",
      "[[28.234184]]\n",
      "[[8.597376]]\n",
      "[[20.508944]]\n",
      "[[25.914412]]\n",
      "[[30.025087]]\n",
      "[[9.279014]]\n",
      "[[22.568993]]\n",
      "[[24.693583]]\n",
      "[[11.5277605]]\n",
      "[[8.85549]]\n",
      "[[8.796094]]\n",
      "[[24.883224]]\n",
      "[[34.26453]]\n",
      "[[3.956057]]\n",
      "[[7.769548]]\n",
      "[[16.823374]]\n",
      "[[11.465925]]\n",
      "[[10.079477]]\n",
      "[[11.955182]]\n",
      "[[14.400595]]\n",
      "[[11.356669]]\n",
      "[[9.536088]]\n",
      "[[7.901217]]\n",
      "[[28.369463]]\n",
      "[[17.343502]]\n",
      "[[12.769805]]\n",
      "[[7.1211433]]\n",
      "[[9.610364]]\n",
      "[[11.4864435]]\n",
      "[[2.4152596]]\n",
      "[[5.486658]]\n",
      "[[7.4775815]]\n",
      "[[2.347696]]\n",
      "[[6.6945934]]\n",
      "[[-0.7078321]]\n",
      "[[1.6982937]]\n",
      "[[2.0744581]]\n",
      "[[1.2150124]]\n",
      "[[1.2347069]]\n",
      "[[0.36732966]]\n",
      "[[0.02947373]]\n",
      "[[0.7231707]]\n",
      "[[0.4463992]]\n",
      "[[0.0427584]]\n",
      "[[0.6861452]]\n",
      "[[0.4238125]]\n",
      "[[0.29608113]]\n",
      "[[0.2881115]]\n",
      "[[0.26376525]]\n",
      "[[0.26686382]]\n",
      "[[0.2518981]]\n",
      "[[0.22226298]]\n",
      "[[0.2524955]]\n",
      "[[0.20535566]]\n",
      "[[0.20163864]]\n",
      "[[0.18501401]]\n",
      "[[0.17453]]\n",
      "[[0.16947463]]\n",
      "[[0.17534691]]\n",
      "[[0.16190587]]\n",
      "[[0.13971028]]\n",
      "[[0.15971944]]\n",
      "[[0.14570057]]\n",
      "[[0.1404157]]\n",
      "[[0.13278076]]\n",
      "[[0.12532195]]\n",
      "[[0.14876762]]\n",
      "[[0.13089794]]\n",
      "[[0.13764049]]\n",
      "[[0.12989765]]\n",
      "[[0.13639976]]\n",
      "[array([[43.077778]], dtype=float32), array([[43.142365]], dtype=float32), array([[27.899595]], dtype=float32), array([[24.340622]], dtype=float32), array([[46.4218]], dtype=float32), array([[12.520472]], dtype=float32), array([[10.317375]], dtype=float32), array([[21.999908]], dtype=float32), array([[12.767969]], dtype=float32), array([[11.124883]], dtype=float32), array([[66.73734]], dtype=float32), array([[28.234184]], dtype=float32), array([[8.597376]], dtype=float32), array([[20.508944]], dtype=float32), array([[25.914412]], dtype=float32), array([[30.025087]], dtype=float32), array([[9.279014]], dtype=float32), array([[22.568993]], dtype=float32), array([[24.693583]], dtype=float32), array([[11.5277605]], dtype=float32), array([[8.85549]], dtype=float32), array([[8.796094]], dtype=float32), array([[24.883224]], dtype=float32), array([[34.26453]], dtype=float32), array([[3.956057]], dtype=float32), array([[7.769548]], dtype=float32), array([[16.823374]], dtype=float32), array([[11.465925]], dtype=float32), array([[10.079477]], dtype=float32), array([[11.955182]], dtype=float32), array([[14.400595]], dtype=float32), array([[11.356669]], dtype=float32), array([[9.536088]], dtype=float32), array([[7.901217]], dtype=float32), array([[28.369463]], dtype=float32), array([[17.343502]], dtype=float32), array([[12.769805]], dtype=float32), array([[7.1211433]], dtype=float32), array([[9.610364]], dtype=float32), array([[11.4864435]], dtype=float32), array([[2.4152596]], dtype=float32), array([[5.486658]], dtype=float32), array([[7.4775815]], dtype=float32), array([[2.347696]], dtype=float32), array([[6.6945934]], dtype=float32), array([[-0.7078321]], dtype=float32), array([[1.6982937]], dtype=float32), array([[2.0744581]], dtype=float32), array([[1.2150124]], dtype=float32), array([[1.2347069]], dtype=float32), array([[0.36732966]], dtype=float32), array([[0.02947373]], dtype=float32), array([[0.7231707]], dtype=float32), array([[0.4463992]], dtype=float32), array([[0.0427584]], dtype=float32), array([[0.6861452]], dtype=float32), array([[0.4238125]], dtype=float32), array([[0.29608113]], dtype=float32), array([[0.2881115]], dtype=float32), array([[0.26376525]], dtype=float32), array([[0.26686382]], dtype=float32), array([[0.2518981]], dtype=float32), array([[0.22226298]], dtype=float32), array([[0.2524955]], dtype=float32), array([[0.20535566]], dtype=float32), array([[0.20163864]], dtype=float32), array([[0.18501401]], dtype=float32), array([[0.17453]], dtype=float32), array([[0.16947463]], dtype=float32), array([[0.17534691]], dtype=float32), array([[0.16190587]], dtype=float32), array([[0.13971028]], dtype=float32), array([[0.15971944]], dtype=float32), array([[0.14570057]], dtype=float32), array([[0.1404157]], dtype=float32), array([[0.13278076]], dtype=float32), array([[0.12532195]], dtype=float32), array([[0.14876762]], dtype=float32), array([[0.13089794]], dtype=float32), array([[0.13764049]], dtype=float32), array([[0.12989765]], dtype=float32), array([[0.13639976]], dtype=float32), 0, 0, 0, 0, 0, 0, 0, 0, 0, 0, 0, 0, 0, 0, 0, 0, 0, 0]\n"
     ]
    }
   ],
   "source": [
    "# split a univariate sequence\n",
    "def split_sequence(sequence, n_steps):\n",
    "\tX, y = list(), list()\n",
    "\tfor i in range(len(sequence)):\n",
    "\t\t# find the end of this pattern\n",
    "\t\tend_ix = i + n_steps\n",
    "\t\t# check if we are beyond the sequence\n",
    "\t\tif end_ix > len(sequence)-1:\n",
    "\t\t\tbreak\n",
    "\t\t# gather input and output parts of the pattern\n",
    "\t\tseq_x, seq_y = sequence[i:end_ix], sequence[end_ix]\n",
    "\t\tX.append(seq_x)\n",
    "\t\ty.append(seq_y)\n",
    "\treturn array(X), array(y)\n",
    "\n",
    "# define input sequence\n",
    "buckets1 = []\n",
    "for i in range(0,100):\n",
    "    buckets1.append(0)\n",
    "raw_seq = [19,14,18,19,20,18,19,28,15,33,49]\n",
    "fut=[37,33,24,14,27,12,10,18,13,13,16,13,9,21,22,21,6,8,10,4,7,10,29,4,3,18,23,17,3,9,8,17,9,7,11,1,0,5,5,7,6,0,2,2,6.12,2.3,1.69,1.39,0.79,0.83,0.77,0.68,0.62,0.53,0.44,0.47,0.36,0.33,0.3,0.27,0.32,0.24,0.19,0.25,0.2,0.16,0.13,0.1,0.26,0.19,0.15,0.16,0.17,0.14,0.1,0.13,0.15,0.15,0.12,0.12,0.14,0.12]\n",
    "for i in range(len(fut)):\n",
    "\t# choose a number of time steps\n",
    "\tn_steps = 10\n",
    "\t# split into samples\n",
    "\traw_seq.append(fut[i])\n",
    "\tX, y = split_sequence(raw_seq, n_steps)\n",
    "\t# reshape from [samples, timesteps] into [samples, timesteps, features]\n",
    "\tn_features = 1\n",
    "\tX = X.reshape((X.shape[0], X.shape[1], n_features))\n",
    "\t# fit model\n",
    "\tmodel.fit(X, y, epochs=200, verbose=0)\n",
    "\t# demonstrate prediction\n",
    "\tN=10\n",
    "\tx_input = array(raw_seq[-N:])\n",
    "\tx_input = x_input.reshape((1, n_steps, n_features))\n",
    "\tyhat = model.predict(x_input, verbose=0)\n",
    "\tbuckets1[i]=yhat\n",
    "\tprint(yhat)\n",
    "print(buckets1)"
   ]
  },
  {
   "cell_type": "code",
   "execution_count": 12,
   "metadata": {
    "uuid": "5510677a-cfe2-47d6-979d-aa03dd89479f"
   },
   "outputs": [],
   "source": [
    "#Stacked LSTM\n",
    "model = keras.Sequential()\n",
    "model.add(tf.keras.layers.LSTM(50, activation='relu', input_shape=(n_steps, n_features)))\n",
    "model.add(tf.keras.layers.Dense(1))\n",
    "model.compile(optimizer='adam', loss='mse')"
   ]
  },
  {
   "cell_type": "code",
   "execution_count": 13,
   "metadata": {
    "uuid": "2e4ce49c-c2c0-460b-b606-ddf93c2c9403"
   },
   "outputs": [
    {
     "name": "stdout",
     "output_type": "stream",
     "text": [
      "Model: \"sequential_4\"\n",
      "_________________________________________________________________\n",
      "Layer (type)                 Output Shape              Param #   \n",
      "=================================================================\n",
      "lstm_2 (LSTM)                (None, 50)                10400     \n",
      "_________________________________________________________________\n",
      "dense_1 (Dense)              (None, 1)                 51        \n",
      "=================================================================\n",
      "Total params: 10,451\n",
      "Trainable params: 10,451\n",
      "Non-trainable params: 0\n",
      "_________________________________________________________________\n"
     ]
    }
   ],
   "source": [
    "model.summary()"
   ]
  },
  {
   "cell_type": "code",
   "execution_count": 16,
   "metadata": {
    "uuid": "2e83a86c-93fd-4696-9824-a4b5cfebc76d"
   },
   "outputs": [
    {
     "name": "stdout",
     "output_type": "stream",
     "text": [
      "[[47.363373]]\n",
      "[[50.841026]]\n",
      "[[27.357998]]\n",
      "[[20.856781]]\n",
      "[[82.099846]]\n",
      "[[23.026745]]\n",
      "[[21.212326]]\n",
      "[[29.746925]]\n",
      "[[11.468154]]\n",
      "[[14.702788]]\n",
      "[[15.753585]]\n",
      "[[23.317648]]\n",
      "[[9.648972]]\n",
      "[[10.612822]]\n",
      "[[23.493322]]\n",
      "[[27.41619]]\n",
      "[[17.670637]]\n",
      "[[18.465761]]\n",
      "[[12.900002]]\n",
      "[[2.4310033]]\n",
      "[[8.975431]]\n",
      "[[11.275642]]\n",
      "[[41.22436]]\n",
      "[[-2.5949116]]\n",
      "[[4.8990445]]\n",
      "[[0.54645497]]\n",
      "[[16.243689]]\n",
      "[[6.108824]]\n",
      "[[6.973977]]\n",
      "[[14.044634]]\n",
      "[[12.380156]]\n",
      "[[4.5001025]]\n",
      "[[10.707065]]\n",
      "[[8.346088]]\n",
      "[[20.598818]]\n",
      "[[7.6926603]]\n",
      "[[7.1461163]]\n",
      "[[14.755668]]\n",
      "[[3.7570255]]\n",
      "[[10.722033]]\n",
      "[[16.40934]]\n",
      "[[4.960985]]\n",
      "[[0.5576769]]\n",
      "[[5.125187]]\n",
      "[[2.0423386]]\n",
      "[[0.6045375]]\n",
      "[[1.7207422]]\n",
      "[[1.5543057]]\n",
      "[[5.595835]]\n",
      "[[-0.15618856]]\n",
      "[[1.4683285]]\n",
      "[[0.29764628]]\n",
      "[[0.35263973]]\n",
      "[[0.27038562]]\n",
      "[[0.37746274]]\n",
      "[[0.4972602]]\n",
      "[[0.32797566]]\n",
      "[[0.25431505]]\n",
      "[[0.28682524]]\n",
      "[[0.27100402]]\n",
      "[[0.2930026]]\n",
      "[[0.26555985]]\n",
      "[[0.22657838]]\n",
      "[[0.3309465]]\n",
      "[[0.2455784]]\n",
      "[[0.21826889]]\n",
      "[[0.1878809]]\n",
      "[[0.12974481]]\n",
      "[[0.15939157]]\n",
      "[[0.15803006]]\n",
      "[[0.1498235]]\n",
      "[[0.14775392]]\n",
      "[[0.15696599]]\n",
      "[[0.14895089]]\n",
      "[[0.14138871]]\n",
      "[[0.13792706]]\n",
      "[[0.14909132]]\n",
      "[[0.14678147]]\n",
      "[[0.13624507]]\n",
      "[[0.12772536]]\n",
      "[[0.12878191]]\n",
      "[[0.1280053]]\n",
      "[array([[47.363373]], dtype=float32), array([[50.841026]], dtype=float32), array([[27.357998]], dtype=float32), array([[20.856781]], dtype=float32), array([[82.099846]], dtype=float32), array([[23.026745]], dtype=float32), array([[21.212326]], dtype=float32), array([[29.746925]], dtype=float32), array([[11.468154]], dtype=float32), array([[14.702788]], dtype=float32), array([[15.753585]], dtype=float32), array([[23.317648]], dtype=float32), array([[9.648972]], dtype=float32), array([[10.612822]], dtype=float32), array([[23.493322]], dtype=float32), array([[27.41619]], dtype=float32), array([[17.670637]], dtype=float32), array([[18.465761]], dtype=float32), array([[12.900002]], dtype=float32), array([[2.4310033]], dtype=float32), array([[8.975431]], dtype=float32), array([[11.275642]], dtype=float32), array([[41.22436]], dtype=float32), array([[-2.5949116]], dtype=float32), array([[4.8990445]], dtype=float32), array([[0.54645497]], dtype=float32), array([[16.243689]], dtype=float32), array([[6.108824]], dtype=float32), array([[6.973977]], dtype=float32), array([[14.044634]], dtype=float32), array([[12.380156]], dtype=float32), array([[4.5001025]], dtype=float32), array([[10.707065]], dtype=float32), array([[8.346088]], dtype=float32), array([[20.598818]], dtype=float32), array([[7.6926603]], dtype=float32), array([[7.1461163]], dtype=float32), array([[14.755668]], dtype=float32), array([[3.7570255]], dtype=float32), array([[10.722033]], dtype=float32), array([[16.40934]], dtype=float32), array([[4.960985]], dtype=float32), array([[0.5576769]], dtype=float32), array([[5.125187]], dtype=float32), array([[2.0423386]], dtype=float32), array([[0.6045375]], dtype=float32), array([[1.7207422]], dtype=float32), array([[1.5543057]], dtype=float32), array([[5.595835]], dtype=float32), array([[-0.15618856]], dtype=float32), array([[1.4683285]], dtype=float32), array([[0.29764628]], dtype=float32), array([[0.35263973]], dtype=float32), array([[0.27038562]], dtype=float32), array([[0.37746274]], dtype=float32), array([[0.4972602]], dtype=float32), array([[0.32797566]], dtype=float32), array([[0.25431505]], dtype=float32), array([[0.28682524]], dtype=float32), array([[0.27100402]], dtype=float32), array([[0.2930026]], dtype=float32), array([[0.26555985]], dtype=float32), array([[0.22657838]], dtype=float32), array([[0.3309465]], dtype=float32), array([[0.2455784]], dtype=float32), array([[0.21826889]], dtype=float32), array([[0.1878809]], dtype=float32), array([[0.12974481]], dtype=float32), array([[0.15939157]], dtype=float32), array([[0.15803006]], dtype=float32), array([[0.1498235]], dtype=float32), array([[0.14775392]], dtype=float32), array([[0.15696599]], dtype=float32), array([[0.14895089]], dtype=float32), array([[0.14138871]], dtype=float32), array([[0.13792706]], dtype=float32), array([[0.14909132]], dtype=float32), array([[0.14678147]], dtype=float32), array([[0.13624507]], dtype=float32), array([[0.12772536]], dtype=float32), array([[0.12878191]], dtype=float32), array([[0.1280053]], dtype=float32), 0, 0, 0, 0, 0, 0, 0, 0, 0, 0, 0, 0, 0, 0, 0, 0, 0, 0]\n"
     ]
    }
   ],
   "source": [
    "# split a univariate sequence\n",
    "def split_sequence(sequence, n_steps):\n",
    "\tX, y = list(), list()\n",
    "\tfor i in range(len(sequence)):\n",
    "\t\t# find the end of this pattern\n",
    "\t\tend_ix = i + n_steps\n",
    "\t\t# check if we are beyond the sequence\n",
    "\t\tif end_ix > len(sequence)-1:\n",
    "\t\t\tbreak\n",
    "\t\t# gather input and output parts of the pattern\n",
    "\t\tseq_x, seq_y = sequence[i:end_ix], sequence[end_ix]\n",
    "\t\tX.append(seq_x)\n",
    "\t\ty.append(seq_y)\n",
    "\treturn array(X), array(y)\n",
    "\n",
    "# define input sequence\n",
    "buckets = []\n",
    "for i in range(0,100):\n",
    "    buckets.append(0)\n",
    "raw_seq = [19,14,18,19,20,18,19,28,15,33,49]\n",
    "fut=[37,33,24,14,27,12,10,18,13,13,16,13,9,21,22,21,6,8,10,4,7,10,29,4,3,18,23,17,3,9,8,17,9,7,11,1,0,5,5,7,6,0,2,2,6.12,2.3,1.69,1.39,0.79,0.83,0.77,0.68,0.62,0.53,0.44,0.47,0.36,0.33,0.3,0.27,0.32,0.24,0.19,0.25,0.2,0.16,0.13,0.1,0.26,0.19,0.15,0.16,0.17,0.14,0.1,0.13,0.15,0.15,0.12,0.12,0.14,0.12]\n",
    "for i in range(len(fut)):\n",
    "\t# choose a number of time steps\n",
    "\tn_steps = 10\n",
    "\t# split into samples\n",
    "\traw_seq.append(fut[i])\n",
    "\tX, y = split_sequence(raw_seq, n_steps)\n",
    "\t# reshape from [samples, timesteps] into [samples, timesteps, features]\n",
    "\tn_features = 1\n",
    "\tX = X.reshape((X.shape[0], X.shape[1], n_features))\n",
    "\t# fit model\n",
    "\tmodel.fit(X, y, epochs=200, verbose=0)\n",
    "\t# demonstrate prediction\n",
    "\tN=10\n",
    "\tx_input = array(raw_seq[-N:])\n",
    "\tx_input = x_input.reshape((1, n_steps, n_features))\n",
    "\tyhat = model.predict(x_input, verbose=0)\n",
    "\tbuckets[i]=yhat\n",
    "\tprint(yhat)\n",
    "print(buckets)"
   ]
  },
  {
   "cell_type": "code",
   "execution_count": 27,
   "metadata": {
    "uuid": "91ed27f5-54e4-4e09-b69d-f0176e8a179f"
   },
   "outputs": [
    {
     "data": {
      "image/png": "[encoded data removed]",
      "text/plain": [
       "<Figure size 432x288 with 1 Axes>"
      ]
     },
     "metadata": {
      "needs_background": "light"
     },
     "output_type": "display_data"
    }
   ],
   "source": [
    "import matplotlib.pyplot as plt\n",
    "actual=fut\n",
    "vanilla=buckets1\n",
    "stackedl=buckets\n",
    "plt.plot(actual,label='Actual')\n",
    "plt.plot(vanilla,label='Vanilla LSTM forecast')\n",
    "plt.plot(stackedl,label='Stacked LSTM forecast')\n",
    "plt.legend()\n",
    "#display plot\n",
    "plt.show()"
   ]
  },
  {
   "cell_type": "code",
   "execution_count": null,
   "metadata": {
    "uuid": "5a73daa8-9398-4c17-8260-bab8328970ba"
   },
   "outputs": [],
   "source": []
  }
 ],
 "metadata": {
  "kernelspec": {
   "display_name": "Python 3",
   "language": "python",
   "name": "python3"
  },
  "language_info": {
   "codemirror_mode": {
    "name": "ipython",
    "version": 3
   },
   "file_extension": ".py",
   "mimetype": "text/x-python",
   "name": "python",
   "nbconvert_exporter": "python",
   "pygments_lexer": "ipython3",
   "version": "3.6.9"
  }
 },
 "nbformat": 4,
 "nbformat_minor": 4
}
